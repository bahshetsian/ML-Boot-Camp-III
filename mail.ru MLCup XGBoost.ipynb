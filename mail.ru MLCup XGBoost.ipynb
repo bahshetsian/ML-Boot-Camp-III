{
 "cells": [
  {
   "cell_type": "code",
   "execution_count": 1,
   "metadata": {
    "collapsed": false
   },
   "outputs": [
    {
     "name": "stderr",
     "output_type": "stream",
     "text": [
      "C:\\Anaconda3\\lib\\site-packages\\sklearn\\cross_validation.py:44: DeprecationWarning: This module was deprecated in version 0.18 in favor of the model_selection module into which all the refactored classes and functions are moved. Also note that the interface of the new CV iterators are different from that of this module. This module will be removed in 0.20.\n",
      "  \"This module will be removed in 0.20.\", DeprecationWarning)\n",
      "C:\\Anaconda3\\lib\\site-packages\\sklearn\\grid_search.py:43: DeprecationWarning: This module was deprecated in version 0.18 in favor of the model_selection module into which all the refactored classes and functions are moved. This module will be removed in 0.20.\n",
      "  DeprecationWarning)\n"
     ]
    }
   ],
   "source": [
    "import pandas as pd\n",
    "import numpy as np\n",
    "\n",
    "import xgboost as xgb\n",
    "from pylightgbm.models import GBMClassifier\n",
    "import lightgbm as lgb\n",
    "\n",
    "\n",
    "from sklearn import ensemble, metrics, preprocessing\n",
    "from sklearn.cross_validation import KFold, train_test_split, StratifiedKFold, cross_val_score\n",
    "from sklearn.grid_search import GridSearchCV\n",
    "\n",
    "import matplotlib.pyplot as plt\n",
    "plt.style.use('ggplot')\n",
    "%matplotlib inline\n",
    "import seaborn as sns"
   ]
  },
  {
   "cell_type": "code",
   "execution_count": 278,
   "metadata": {
    "collapsed": false
   },
   "outputs": [],
   "source": [
    "test = pd.read_csv('./files/x_test.csv', sep=';')\n",
    "train = pd.read_csv('./files/x_train.csv', sep=';')\n",
    "train_y = pd.read_csv('./files/y_train.csv', header = None)"
   ]
  },
  {
   "cell_type": "markdown",
   "metadata": {},
   "source": [
    "Add new features"
   ]
  },
  {
   "cell_type": "code",
   "execution_count": 281,
   "metadata": {
    "collapsed": false
   },
   "outputs": [],
   "source": [
    "'maxPlayerLevel - максимальный уровень игры, который прошел игрок'\n",
    "'numberOfAttemptedLevels - количество уровней, которые попытался пройти игрок'\n",
    "'attemptsOnTheHighestLevel - число попыток, сделанных на самом высоком уровне'\n",
    "'totalNumOfAttempts - общее число попыток'\n",
    "'averageNumOfTurnsPerCompletedLevel - среднее количество ходов, выполненных на успешно пройденных уровнях'\n",
    "'doReturnOnLowerLevels - делал ли игрок возвраты к игре на уже пройденных уровнях'\n",
    "'numberOfBoostersUsed - количество использованных бустеров'\n",
    "'fractionOfUsefullBoosters - количество бустеров, использованных во время успешных попыток (игрок прошел уровнь)'\n",
    "\n",
    "\n",
    "train['Star1'] = train.totalStarsCount/train.numberOfAttemptedLevels\n",
    "train['Lvl_num_att'] = train.maxPlayerLevel/train.numberOfAttemptedLevels\n",
    "train['Att_high_lvl'] = train.totalNumOfAttempts/train.attemptsOnTheHighestLevel\n",
    "train['Att_turns'] = train.numberOfAttemptedLevels/train.averageNumOfTurnsPerCompletedLevel\n",
    "train['Boost'] = train.numberOfBoostersUsed/train.fractionOfUsefullBoosters\n",
    "train['Turn_boost'] = train.averageNumOfTurnsPerCompletedLevel/train.fractionOfUsefullBoosters\n",
    "train['Score_Stars'] = (train.totalScore/train.totalStarsCount)/train.numberOfDaysActuallyPlayed\n",
    "train['Score_bonuse'] = (train.totalScore/train.totalBonusScore)/train.numberOfDaysActuallyPlayed\n",
    "train['ScoreAvg'] = train.totalScore/train.numberOfDaysActuallyPlayed\n",
    "train['AverageNumOfTurnsAvg'] = train.averageNumOfTurnsPerCompletedLevel/train.numberOfDaysActuallyPlayed\n",
    "train['Score_level'] = train.totalScore/train.maxPlayerLevel\n",
    "train['Score_level_att'] = train.totalScore/train.totalNumOfAttempts\n",
    "train['NumberOfBooster_att'] =train.numberOfBoostersUsed/train.totalNumOfAttempts\n",
    "\n",
    "test['Star1'] = test.totalStarsCount/test.numberOfAttemptedLevels\n",
    "test['Lvl_num_att'] = test.maxPlayerLevel/test.numberOfAttemptedLevels\n",
    "test['Att_high_lvl'] = test.totalNumOfAttempts/test.attemptsOnTheHighestLevel\n",
    "test['Att_turns'] = test.numberOfAttemptedLevels/test.averageNumOfTurnsPerCompletedLevel\n",
    "test['Boost'] = test.numberOfBoostersUsed/test.fractionOfUsefullBoosters\n",
    "test['Turn_boost'] = test.averageNumOfTurnsPerCompletedLevel/test.fractionOfUsefullBoosters\n",
    "test['Score_Stars'] = (test.totalScore/test.totalStarsCount)/test.numberOfDaysActuallyPlayed\n",
    "test['Score_bonuse'] = (test.totalScore/test.totalBonusScore)/test.numberOfDaysActuallyPlayed\n",
    "test['ScoreAvg'] = test.totalScore/test.numberOfDaysActuallyPlayed\n",
    "test['AverageNumOfTurnsAvg'] = test.averageNumOfTurnsPerCompletedLevel/test.numberOfDaysActuallyPlayed\n",
    "test['Score_level'] = test.totalScore/test.maxPlayerLevel\n",
    "test['Score_level_att'] = test.totalScore/test.totalNumOfAttempts\n",
    "test['NumberOfBooster_att'] =test.numberOfBoostersUsed/test.totalNumOfAttempts"
   ]
  },
  {
   "cell_type": "code",
   "execution_count": 282,
   "metadata": {
    "collapsed": false
   },
   "outputs": [],
   "source": [
    "feat_names = train.columns"
   ]
  },
  {
   "cell_type": "code",
   "execution_count": 283,
   "metadata": {
    "collapsed": false
   },
   "outputs": [
    {
     "name": "stderr",
     "output_type": "stream",
     "text": [
      "C:\\Anaconda3\\lib\\site-packages\\pandas\\core\\generic.py:3416: UserWarning: the \"axis\" argument is deprecated and will be removed inv0.13; this argument has no effect\n",
      "  warn('the \"axis\" argument is deprecated and will be removed in'\n"
     ]
    }
   ],
   "source": [
    "train = train.fillna(0, axis=0)\n",
    "train = train.replace('inf',0, axis=0)\n",
    "\n",
    "test = test.fillna(0, axis=0)\n",
    "test = test.replace('inf',0, axis=0)"
   ]
  },
  {
   "cell_type": "code",
   "execution_count": 284,
   "metadata": {
    "collapsed": false
   },
   "outputs": [
    {
     "data": {
      "text/plain": [
       "(25289, 25)"
      ]
     },
     "execution_count": 284,
     "metadata": {},
     "output_type": "execute_result"
    }
   ],
   "source": [
    "train.shape\n"
   ]
  },
  {
   "cell_type": "markdown",
   "metadata": {
    "collapsed": true
   },
   "source": [
    "Scale data"
   ]
  },
  {
   "cell_type": "code",
   "execution_count": 285,
   "metadata": {
    "collapsed": false
   },
   "outputs": [],
   "source": [
    "cat = train.doReturnOnLowerLevels\n",
    "cat_test = test.doReturnOnLowerLevels\n",
    "train.drop('doReturnOnLowerLevels', axis=1, inplace=True)\n",
    "test.drop('doReturnOnLowerLevels', axis=1, inplace=True)"
   ]
  },
  {
   "cell_type": "code",
   "execution_count": 286,
   "metadata": {
    "collapsed": false
   },
   "outputs": [],
   "source": [
    "scaler = preprocessing.StandardScaler().fit(train.values)"
   ]
  },
  {
   "cell_type": "code",
   "execution_count": 287,
   "metadata": {
    "collapsed": false
   },
   "outputs": [],
   "source": [
    "train_scaled = scaler.transform(train.values)\n",
    "test_scaled = scaler.transform(test.values)"
   ]
  },
  {
   "cell_type": "code",
   "execution_count": 288,
   "metadata": {
    "collapsed": false
   },
   "outputs": [
    {
     "name": "stderr",
     "output_type": "stream",
     "text": [
      "C:\\Anaconda3\\lib\\site-packages\\ipykernel\\__main__.py:1: FutureWarning: reshape is deprecated and will raise in a subsequent release. Please use .values.reshape(...) instead\n",
      "  if __name__ == '__main__':\n",
      "C:\\Anaconda3\\lib\\site-packages\\ipykernel\\__main__.py:2: FutureWarning: reshape is deprecated and will raise in a subsequent release. Please use .values.reshape(...) instead\n",
      "  from ipykernel import kernelapp as app\n"
     ]
    }
   ],
   "source": [
    "train_scaled = np.hstack([train_scaled, cat.reshape(len(cat),1)])\n",
    "test_scaled = np.hstack([test_scaled, cat_test.reshape(len(cat_test),1)])"
   ]
  },
  {
   "cell_type": "markdown",
   "metadata": {
    "collapsed": true
   },
   "source": [
    "Cross validation - KFold"
   ]
  },
  {
   "cell_type": "code",
   "execution_count": 13,
   "metadata": {
    "collapsed": false
   },
   "outputs": [],
   "source": [
    "skf = StratifiedKFold(np.array(train_y).ravel(), 5,  random_state=0)"
   ]
  },
  {
   "cell_type": "code",
   "execution_count": 289,
   "metadata": {
    "collapsed": false
   },
   "outputs": [
    {
     "name": "stdout",
     "output_type": "stream",
     "text": [
      "log_loss:  0.385324768944\n",
      "log_loss:  0.376620456233\n",
      "log_loss:  0.371014136203\n",
      "log_loss:  0.396082685333\n",
      "log_loss:  0.370846225003\n",
      "Mean:  0.379977654343\n"
     ]
    }
   ],
   "source": [
    "p = []\n",
    "for train_index, test_index in skf:\n",
    "    xgb_model = xgb.XGBClassifier(seed=0, max_depth=4, learning_rate=0.01, n_estimators=900, silent=True, objective='binary:logistic',\n",
    "subsample=0.7, gamma=5, colsample_bylevel=0.6, max_delta_step=1, min_child_weight=10).fit(np.array(train_scaled)[train_index],np.array(train_y)[train_index].ravel(), eval_metric='logloss')\n",
    "    predictions = xgb_model.predict_proba(np.array(train_scaled)[test_index])\n",
    "    actuals = np.array(train_y)[test_index]\n",
    "    print('log_loss: ', metrics.log_loss(actuals, predictions[:,1]))\n",
    "    p.append(metrics.log_loss(actuals, predictions[:,1]))\n",
    "print('Mean: ', np.mean(p))"
   ]
  },
  {
   "cell_type": "markdown",
   "metadata": {},
   "source": [
    "Model"
   ]
  },
  {
   "cell_type": "code",
   "execution_count": 292,
   "metadata": {
    "collapsed": false
   },
   "outputs": [
    {
     "name": "stderr",
     "output_type": "stream",
     "text": [
      "C:\\Anaconda3\\lib\\site-packages\\sklearn\\preprocessing\\label.py:112: DataConversionWarning: A column-vector y was passed when a 1d array was expected. Please change the shape of y to (n_samples, ), for example using ravel().\n",
      "  y = column_or_1d(y, warn=True)\n",
      "C:\\Anaconda3\\lib\\site-packages\\sklearn\\preprocessing\\label.py:147: DataConversionWarning: A column-vector y was passed when a 1d array was expected. Please change the shape of y to (n_samples, ), for example using ravel().\n",
      "  y = column_or_1d(y, warn=True)\n"
     ]
    }
   ],
   "source": [
    "xgb_model = xgb.XGBClassifier(max_depth=4, learning_rate=0.01, n_estimators=900, silent=True, objective='binary:logistic',\n",
    "subsample=0.7, gamma=5, colsample_bylevel=0.6, max_delta_step=1, min_child_weight=10).fit(train_scaled,train_y)\n",
    "predictions = xgb_model.predict_proba(test_scaled)"
   ]
  },
  {
   "cell_type": "code",
   "execution_count": 297,
   "metadata": {
    "collapsed": false
   },
   "outputs": [],
   "source": [
    "pd.Series(predictions[:,1]).to_csv('XGBClassifier_new_tune_feature.csv', index=False, sep=';', header=None)"
   ]
  },
  {
   "cell_type": "code",
   "execution_count": 295,
   "metadata": {
    "collapsed": false
   },
   "outputs": [
    {
     "data": {
      "text/plain": [
       "(array([ 5473.,  2574.,  1731.,   755.,   816.,   758.,   652.,   561.,\n",
       "          579.,   524.,   430.,   440.,   374.,   344.,   312.,   261.,\n",
       "          270.,   236.,   259.,   307.,   283.,   295.,   288.,   241.,\n",
       "          258.,   237.,   240.,   223.,   185.,   218.,   238.,   259.,\n",
       "          246.,   236.,   275.,   274.,   309.,   311.,   350.,   319.,\n",
       "          331.,   333.,   288.,   302.,   190.,   154.,   131.,   148.,\n",
       "          184.,   287.]),\n",
       " array([ 0.01879109,  0.03806067,  0.05733025,  0.07659982,  0.0958694 ,\n",
       "         0.11513898,  0.13440855,  0.15367813,  0.17294771,  0.19221728,\n",
       "         0.21148686,  0.23075644,  0.25002601,  0.26929559,  0.28856517,\n",
       "         0.30783474,  0.32710432,  0.3463739 ,  0.36564347,  0.38491305,\n",
       "         0.40418263,  0.4234522 ,  0.44272178,  0.46199136,  0.48126093,\n",
       "         0.50053051,  0.51980009,  0.53906966,  0.55833924,  0.57760882,\n",
       "         0.5968784 ,  0.61614797,  0.63541755,  0.65468713,  0.6739567 ,\n",
       "         0.69322628,  0.71249586,  0.73176543,  0.75103501,  0.77030459,\n",
       "         0.78957416,  0.80884374,  0.82811332,  0.84738289,  0.86665247,\n",
       "         0.88592205,  0.90519162,  0.9244612 ,  0.94373078,  0.96300035,\n",
       "         0.98226993]),\n",
       " <a list of 50 Patch objects>)"
      ]
     },
     "execution_count": 295,
     "metadata": {},
     "output_type": "execute_result"
    },
    {
     "data": {
      "image/png": "[encoded data removed]",
      "text/plain": [
       "<matplotlib.figure.Figure at 0x23b569942b0>"
      ]
     },
     "metadata": {},
     "output_type": "display_data"
    }
   ],
   "source": [
    "plt.hist(predictions[:,1], bins=50)"
   ]
  }
 ],
 "metadata": {
  "kernelspec": {
   "display_name": "Python [default]",
   "language": "python",
   "name": "python3"
  },
  "language_info": {
   "codemirror_mode": {
    "name": "ipython",
    "version": 3
   },
   "file_extension": ".py",
   "mimetype": "text/x-python",
   "name": "python",
   "nbconvert_exporter": "python",
   "pygments_lexer": "ipython3",
   "version": "3.5.3"
  }
 },
 "nbformat": 4,
 "nbformat_minor": 0
}
